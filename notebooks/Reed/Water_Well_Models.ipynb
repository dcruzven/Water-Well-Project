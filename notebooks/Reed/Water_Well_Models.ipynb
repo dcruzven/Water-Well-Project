{
 "cells": [
  {
   "cell_type": "code",
   "execution_count": 1,
   "metadata": {},
   "outputs": [],
   "source": [
    "import pandas as pd\n",
    "import numpy as np\n",
    "import matplotlib.pyplot as plt\n",
    "import seaborn as sns\n",
    "import xgboost as xgb\n",
    "from numpy import asarray\n",
    "\n",
    "from sklearn.impute import SimpleImputer\n",
    "from sklearn.model_selection import train_test_split, cross_val_score, GridSearchCV\n",
    "from sklearn.metrics import precision_score, recall_score, confusion_matrix\n",
    "from sklearn.tree import DecisionTreeClassifier\n",
    "from sklearn.datasets import fetch_20newsgroups\n",
    "from sklearn.feature_extraction.text import CountVectorizer\n",
    "from sklearn.naive_bayes import MultinomialNB, GaussianNB, BernoulliNB\n",
    "from sklearn.metrics import accuracy_score, recall_score, precision_score, f1_score\n",
    "from sklearn.metrics import plot_roc_curve, plot_confusion_matrix, confusion_matrix, mean_squared_error\n",
    "from sklearn.neighbors import KNeighborsClassifier\n",
    "from sklearn.linear_model import LinearRegression, LogisticRegression\n",
    "from sklearn.preprocessing import StandardScaler, OneHotEncoder, MinMaxScaler\n",
    "from sklearn.pipeline import Pipeline\n",
    "\n",
    "from sklearn.ensemble import BaggingClassifier\n",
    "from sklearn.ensemble import VotingClassifier\n",
    "from sklearn.ensemble import AdaBoostClassifier\n",
    "from sklearn.ensemble import GradientBoostingClassifier\n",
    "from sklearn.compose import ColumnTransformer\n",
    "from sklearn.ensemble import RandomForestClassifier"
   ]
  },
  {
   "cell_type": "code",
   "execution_count": 2,
   "metadata": {},
   "outputs": [],
   "source": [
    "pd.set_option(\"display.max_columns\", None)"
   ]
  },
  {
   "cell_type": "code",
   "execution_count": 3,
   "metadata": {},
   "outputs": [
    {
     "name": "stdout",
     "output_type": "stream",
     "text": [
      "clean_wells.csv features.csv    target.csv\r\n"
     ]
    }
   ],
   "source": [
    "!ls ../../data"
   ]
  },
  {
   "cell_type": "code",
   "execution_count": 4,
   "metadata": {},
   "outputs": [
    {
     "data": {
      "text/html": [
       "<div>\n",
       "<style scoped>\n",
       "    .dataframe tbody tr th:only-of-type {\n",
       "        vertical-align: middle;\n",
       "    }\n",
       "\n",
       "    .dataframe tbody tr th {\n",
       "        vertical-align: top;\n",
       "    }\n",
       "\n",
       "    .dataframe thead th {\n",
       "        text-align: right;\n",
       "    }\n",
       "</style>\n",
       "<table border=\"1\" class=\"dataframe\">\n",
       "  <thead>\n",
       "    <tr style=\"text-align: right;\">\n",
       "      <th></th>\n",
       "      <th>Unnamed: 0</th>\n",
       "      <th>amount_tsh</th>\n",
       "      <th>gps_height</th>\n",
       "      <th>basin</th>\n",
       "      <th>region</th>\n",
       "      <th>population</th>\n",
       "      <th>construction_year</th>\n",
       "      <th>extraction_type_class</th>\n",
       "      <th>management</th>\n",
       "      <th>management_group</th>\n",
       "      <th>payment_type</th>\n",
       "      <th>quality_group</th>\n",
       "      <th>quantity_group</th>\n",
       "      <th>source_type</th>\n",
       "      <th>source_class</th>\n",
       "      <th>waterpoint_type_group</th>\n",
       "      <th>status_group</th>\n",
       "      <th>near_pop</th>\n",
       "      <th>level</th>\n",
       "      <th>has_static</th>\n",
       "      <th>has_year</th>\n",
       "    </tr>\n",
       "  </thead>\n",
       "  <tbody>\n",
       "    <tr>\n",
       "      <th>0</th>\n",
       "      <td>0</td>\n",
       "      <td>6000.0</td>\n",
       "      <td>1390</td>\n",
       "      <td>Lake Nyasa</td>\n",
       "      <td>Iringa</td>\n",
       "      <td>109</td>\n",
       "      <td>1999</td>\n",
       "      <td>gravity</td>\n",
       "      <td>vwc</td>\n",
       "      <td>user-group</td>\n",
       "      <td>annually</td>\n",
       "      <td>good</td>\n",
       "      <td>enough</td>\n",
       "      <td>spring</td>\n",
       "      <td>groundwater</td>\n",
       "      <td>communal standpipe</td>\n",
       "      <td>functional</td>\n",
       "      <td>True</td>\n",
       "      <td>above</td>\n",
       "      <td>True</td>\n",
       "      <td>True</td>\n",
       "    </tr>\n",
       "    <tr>\n",
       "      <th>1</th>\n",
       "      <td>1</td>\n",
       "      <td>0.0</td>\n",
       "      <td>1399</td>\n",
       "      <td>Lake Victoria</td>\n",
       "      <td>Mara</td>\n",
       "      <td>280</td>\n",
       "      <td>2010</td>\n",
       "      <td>gravity</td>\n",
       "      <td>wug</td>\n",
       "      <td>user-group</td>\n",
       "      <td>never pay</td>\n",
       "      <td>good</td>\n",
       "      <td>insufficient</td>\n",
       "      <td>rainwater harvesting</td>\n",
       "      <td>surface</td>\n",
       "      <td>communal standpipe</td>\n",
       "      <td>functional</td>\n",
       "      <td>True</td>\n",
       "      <td>above</td>\n",
       "      <td>False</td>\n",
       "      <td>True</td>\n",
       "    </tr>\n",
       "    <tr>\n",
       "      <th>2</th>\n",
       "      <td>2</td>\n",
       "      <td>25.0</td>\n",
       "      <td>686</td>\n",
       "      <td>Pangani</td>\n",
       "      <td>Manyara</td>\n",
       "      <td>250</td>\n",
       "      <td>2009</td>\n",
       "      <td>gravity</td>\n",
       "      <td>vwc</td>\n",
       "      <td>user-group</td>\n",
       "      <td>per bucket</td>\n",
       "      <td>good</td>\n",
       "      <td>enough</td>\n",
       "      <td>dam</td>\n",
       "      <td>surface</td>\n",
       "      <td>communal standpipe</td>\n",
       "      <td>functional</td>\n",
       "      <td>True</td>\n",
       "      <td>above</td>\n",
       "      <td>True</td>\n",
       "      <td>True</td>\n",
       "    </tr>\n",
       "    <tr>\n",
       "      <th>3</th>\n",
       "      <td>3</td>\n",
       "      <td>0.0</td>\n",
       "      <td>263</td>\n",
       "      <td>Ruvuma / Southern Coast</td>\n",
       "      <td>Mtwara</td>\n",
       "      <td>58</td>\n",
       "      <td>1986</td>\n",
       "      <td>submersible</td>\n",
       "      <td>vwc</td>\n",
       "      <td>user-group</td>\n",
       "      <td>never pay</td>\n",
       "      <td>good</td>\n",
       "      <td>dry</td>\n",
       "      <td>borehole</td>\n",
       "      <td>groundwater</td>\n",
       "      <td>communal standpipe</td>\n",
       "      <td>non functional/needs repair</td>\n",
       "      <td>True</td>\n",
       "      <td>above</td>\n",
       "      <td>False</td>\n",
       "      <td>True</td>\n",
       "    </tr>\n",
       "    <tr>\n",
       "      <th>4</th>\n",
       "      <td>4</td>\n",
       "      <td>0.0</td>\n",
       "      <td>0</td>\n",
       "      <td>Lake Victoria</td>\n",
       "      <td>Kagera</td>\n",
       "      <td>0</td>\n",
       "      <td>0</td>\n",
       "      <td>gravity</td>\n",
       "      <td>other</td>\n",
       "      <td>other</td>\n",
       "      <td>never pay</td>\n",
       "      <td>good</td>\n",
       "      <td>seasonal</td>\n",
       "      <td>rainwater harvesting</td>\n",
       "      <td>surface</td>\n",
       "      <td>communal standpipe</td>\n",
       "      <td>functional</td>\n",
       "      <td>False</td>\n",
       "      <td>level</td>\n",
       "      <td>False</td>\n",
       "      <td>False</td>\n",
       "    </tr>\n",
       "    <tr>\n",
       "      <th>...</th>\n",
       "      <td>...</td>\n",
       "      <td>...</td>\n",
       "      <td>...</td>\n",
       "      <td>...</td>\n",
       "      <td>...</td>\n",
       "      <td>...</td>\n",
       "      <td>...</td>\n",
       "      <td>...</td>\n",
       "      <td>...</td>\n",
       "      <td>...</td>\n",
       "      <td>...</td>\n",
       "      <td>...</td>\n",
       "      <td>...</td>\n",
       "      <td>...</td>\n",
       "      <td>...</td>\n",
       "      <td>...</td>\n",
       "      <td>...</td>\n",
       "      <td>...</td>\n",
       "      <td>...</td>\n",
       "      <td>...</td>\n",
       "      <td>...</td>\n",
       "    </tr>\n",
       "    <tr>\n",
       "      <th>59395</th>\n",
       "      <td>59395</td>\n",
       "      <td>10.0</td>\n",
       "      <td>1210</td>\n",
       "      <td>Pangani</td>\n",
       "      <td>Kilimanjaro</td>\n",
       "      <td>125</td>\n",
       "      <td>1999</td>\n",
       "      <td>gravity</td>\n",
       "      <td>water board</td>\n",
       "      <td>user-group</td>\n",
       "      <td>per bucket</td>\n",
       "      <td>good</td>\n",
       "      <td>enough</td>\n",
       "      <td>spring</td>\n",
       "      <td>groundwater</td>\n",
       "      <td>communal standpipe</td>\n",
       "      <td>functional</td>\n",
       "      <td>True</td>\n",
       "      <td>above</td>\n",
       "      <td>True</td>\n",
       "      <td>True</td>\n",
       "    </tr>\n",
       "    <tr>\n",
       "      <th>59396</th>\n",
       "      <td>59396</td>\n",
       "      <td>4700.0</td>\n",
       "      <td>1212</td>\n",
       "      <td>Rufiji</td>\n",
       "      <td>Iringa</td>\n",
       "      <td>56</td>\n",
       "      <td>1996</td>\n",
       "      <td>gravity</td>\n",
       "      <td>vwc</td>\n",
       "      <td>user-group</td>\n",
       "      <td>annually</td>\n",
       "      <td>good</td>\n",
       "      <td>enough</td>\n",
       "      <td>river/lake</td>\n",
       "      <td>surface</td>\n",
       "      <td>communal standpipe</td>\n",
       "      <td>functional</td>\n",
       "      <td>True</td>\n",
       "      <td>above</td>\n",
       "      <td>True</td>\n",
       "      <td>True</td>\n",
       "    </tr>\n",
       "    <tr>\n",
       "      <th>59397</th>\n",
       "      <td>59397</td>\n",
       "      <td>0.0</td>\n",
       "      <td>0</td>\n",
       "      <td>Rufiji</td>\n",
       "      <td>Mbeya</td>\n",
       "      <td>0</td>\n",
       "      <td>0</td>\n",
       "      <td>handpump</td>\n",
       "      <td>vwc</td>\n",
       "      <td>user-group</td>\n",
       "      <td>monthly</td>\n",
       "      <td>fluoride</td>\n",
       "      <td>enough</td>\n",
       "      <td>borehole</td>\n",
       "      <td>groundwater</td>\n",
       "      <td>hand pump</td>\n",
       "      <td>functional</td>\n",
       "      <td>False</td>\n",
       "      <td>level</td>\n",
       "      <td>False</td>\n",
       "      <td>False</td>\n",
       "    </tr>\n",
       "    <tr>\n",
       "      <th>59398</th>\n",
       "      <td>59398</td>\n",
       "      <td>0.0</td>\n",
       "      <td>0</td>\n",
       "      <td>Rufiji</td>\n",
       "      <td>Dodoma</td>\n",
       "      <td>0</td>\n",
       "      <td>0</td>\n",
       "      <td>handpump</td>\n",
       "      <td>vwc</td>\n",
       "      <td>user-group</td>\n",
       "      <td>never pay</td>\n",
       "      <td>good</td>\n",
       "      <td>insufficient</td>\n",
       "      <td>shallow well</td>\n",
       "      <td>groundwater</td>\n",
       "      <td>hand pump</td>\n",
       "      <td>functional</td>\n",
       "      <td>False</td>\n",
       "      <td>level</td>\n",
       "      <td>False</td>\n",
       "      <td>False</td>\n",
       "    </tr>\n",
       "    <tr>\n",
       "      <th>59399</th>\n",
       "      <td>59399</td>\n",
       "      <td>0.0</td>\n",
       "      <td>191</td>\n",
       "      <td>Wami / Ruvu</td>\n",
       "      <td>Morogoro</td>\n",
       "      <td>150</td>\n",
       "      <td>2002</td>\n",
       "      <td>handpump</td>\n",
       "      <td>vwc</td>\n",
       "      <td>user-group</td>\n",
       "      <td>on failure</td>\n",
       "      <td>salty</td>\n",
       "      <td>enough</td>\n",
       "      <td>shallow well</td>\n",
       "      <td>groundwater</td>\n",
       "      <td>hand pump</td>\n",
       "      <td>functional</td>\n",
       "      <td>True</td>\n",
       "      <td>above</td>\n",
       "      <td>False</td>\n",
       "      <td>True</td>\n",
       "    </tr>\n",
       "  </tbody>\n",
       "</table>\n",
       "<p>59400 rows × 21 columns</p>\n",
       "</div>"
      ],
      "text/plain": [
       "       Unnamed: 0  amount_tsh  gps_height                    basin  \\\n",
       "0               0      6000.0        1390               Lake Nyasa   \n",
       "1               1         0.0        1399            Lake Victoria   \n",
       "2               2        25.0         686                  Pangani   \n",
       "3               3         0.0         263  Ruvuma / Southern Coast   \n",
       "4               4         0.0           0            Lake Victoria   \n",
       "...           ...         ...         ...                      ...   \n",
       "59395       59395        10.0        1210                  Pangani   \n",
       "59396       59396      4700.0        1212                   Rufiji   \n",
       "59397       59397         0.0           0                   Rufiji   \n",
       "59398       59398         0.0           0                   Rufiji   \n",
       "59399       59399         0.0         191              Wami / Ruvu   \n",
       "\n",
       "            region  population  construction_year extraction_type_class  \\\n",
       "0           Iringa         109               1999               gravity   \n",
       "1             Mara         280               2010               gravity   \n",
       "2          Manyara         250               2009               gravity   \n",
       "3           Mtwara          58               1986           submersible   \n",
       "4           Kagera           0                  0               gravity   \n",
       "...            ...         ...                ...                   ...   \n",
       "59395  Kilimanjaro         125               1999               gravity   \n",
       "59396       Iringa          56               1996               gravity   \n",
       "59397        Mbeya           0                  0              handpump   \n",
       "59398       Dodoma           0                  0              handpump   \n",
       "59399     Morogoro         150               2002              handpump   \n",
       "\n",
       "        management management_group payment_type quality_group quantity_group  \\\n",
       "0              vwc       user-group     annually          good         enough   \n",
       "1              wug       user-group    never pay          good   insufficient   \n",
       "2              vwc       user-group   per bucket          good         enough   \n",
       "3              vwc       user-group    never pay          good            dry   \n",
       "4            other            other    never pay          good       seasonal   \n",
       "...            ...              ...          ...           ...            ...   \n",
       "59395  water board       user-group   per bucket          good         enough   \n",
       "59396          vwc       user-group     annually          good         enough   \n",
       "59397          vwc       user-group      monthly      fluoride         enough   \n",
       "59398          vwc       user-group    never pay          good   insufficient   \n",
       "59399          vwc       user-group   on failure         salty         enough   \n",
       "\n",
       "                source_type source_class waterpoint_type_group  \\\n",
       "0                    spring  groundwater    communal standpipe   \n",
       "1      rainwater harvesting      surface    communal standpipe   \n",
       "2                       dam      surface    communal standpipe   \n",
       "3                  borehole  groundwater    communal standpipe   \n",
       "4      rainwater harvesting      surface    communal standpipe   \n",
       "...                     ...          ...                   ...   \n",
       "59395                spring  groundwater    communal standpipe   \n",
       "59396            river/lake      surface    communal standpipe   \n",
       "59397              borehole  groundwater             hand pump   \n",
       "59398          shallow well  groundwater             hand pump   \n",
       "59399          shallow well  groundwater             hand pump   \n",
       "\n",
       "                      status_group  near_pop  level  has_static  has_year  \n",
       "0                       functional      True  above        True      True  \n",
       "1                       functional      True  above       False      True  \n",
       "2                       functional      True  above        True      True  \n",
       "3      non functional/needs repair      True  above       False      True  \n",
       "4                       functional     False  level       False     False  \n",
       "...                            ...       ...    ...         ...       ...  \n",
       "59395                   functional      True  above        True      True  \n",
       "59396                   functional      True  above        True      True  \n",
       "59397                   functional     False  level       False     False  \n",
       "59398                   functional     False  level       False     False  \n",
       "59399                   functional      True  above       False      True  \n",
       "\n",
       "[59400 rows x 21 columns]"
      ]
     },
     "execution_count": 4,
     "metadata": {},
     "output_type": "execute_result"
    }
   ],
   "source": [
    "df = pd.read_csv('../../data/clean_wells.csv')\n",
    "df"
   ]
  },
  {
   "cell_type": "markdown",
   "metadata": {},
   "source": [
    "Cleaning out irrelevant data that would add noise to our model. "
   ]
  },
  {
   "cell_type": "code",
   "execution_count": 46,
   "metadata": {},
   "outputs": [],
   "source": [
    "final_df = df.drop(columns = ['Unnamed: 0','amount_tsh', 'gps_height', 'population', \n",
    "                              'construction_year', 'has_year'])"
   ]
  },
  {
   "cell_type": "code",
   "execution_count": 47,
   "metadata": {},
   "outputs": [],
   "source": [
    "X = final_df.drop(columns = ['status_group'])\n",
    "y = final_df['status_group']\n",
    "\n",
    "X_train, X_test, y_train, y_test = train_test_split(\n",
    "    X, y, random_state=42)"
   ]
  },
  {
   "cell_type": "markdown",
   "metadata": {},
   "source": [
    "The following cells are used to construct a Pipeline for my numerical data and OneHotEncode my categorical data."
   ]
  },
  {
   "cell_type": "code",
   "execution_count": 48,
   "metadata": {},
   "outputs": [],
   "source": [
    "#https://stackoverflow.com/questions/61641852/what-is-the-valid-specification-of-the-columns-needed-for-sklearn-classifier-p\n",
    "\n",
    "cat_cols = X.select_dtypes(include=\"object\").columns\n",
    "num_cols = X.select_dtypes(exclude=\"object\").columns"
   ]
  },
  {
   "cell_type": "code",
   "execution_count": 49,
   "metadata": {},
   "outputs": [],
   "source": [
    "num_trans = Pipeline(steps=[\n",
    "    ('scaler', StandardScaler())\n",
    "])\n",
    "cat_trans = Pipeline(steps=[\n",
    "    ('ohe', OneHotEncoder(drop='first',\n",
    "                          sparse=False))\n",
    "])"
   ]
  },
  {
   "cell_type": "code",
   "execution_count": 50,
   "metadata": {},
   "outputs": [],
   "source": [
    "pp = ColumnTransformer(transformers=[\n",
    "    ('num', num_trans, num_cols),\n",
    "    ('cat', cat_trans, cat_cols)\n",
    "])"
   ]
  },
  {
   "cell_type": "code",
   "execution_count": 51,
   "metadata": {},
   "outputs": [],
   "source": [
    "pp.fit(X_train)\n",
    "X_tr_pp = pp.transform(X_train)\n",
    "X_te_pp = pp.transform(X_test)"
   ]
  },
  {
   "cell_type": "markdown",
   "metadata": {},
   "source": [
    "I ran 6 different models to see which ones would perform the best on our dataset. We're looking to see which model did the best with handling false positives which is shown in our confusion matrix. "
   ]
  },
  {
   "cell_type": "markdown",
   "metadata": {},
   "source": [
    "## Model 1: KNN "
   ]
  },
  {
   "cell_type": "code",
   "execution_count": 52,
   "metadata": {},
   "outputs": [
    {
     "data": {
      "text/plain": [
       "KNeighborsClassifier(n_neighbors=3)"
      ]
     },
     "execution_count": 52,
     "metadata": {},
     "output_type": "execute_result"
    }
   ],
   "source": [
    "knn = KNeighborsClassifier(3)\n",
    "\n",
    "knn.fit(X_tr_pp, y_train)"
   ]
  },
  {
   "cell_type": "code",
   "execution_count": 53,
   "metadata": {},
   "outputs": [
    {
     "name": "stdout",
     "output_type": "stream",
     "text": [
      "Median score: 0.7437 (+/- 0.0060)\n"
     ]
    }
   ],
   "source": [
    "scores = cross_val_score(estimator=knn, X=X_tr_pp,\n",
    "                y=y_train, cv=5)\n",
    "print(f\"Median score: {np.median(scores):.4f} (+/- {np.std(scores):.4f})\")"
   ]
  },
  {
   "cell_type": "code",
   "execution_count": 54,
   "metadata": {
    "scrolled": true
   },
   "outputs": [
    {
     "data": {
      "text/plain": [
       "0.7394612794612795"
      ]
     },
     "execution_count": 54,
     "metadata": {},
     "output_type": "execute_result"
    }
   ],
   "source": [
    "knn.score(X_te_pp, y_test)"
   ]
  },
  {
   "cell_type": "code",
   "execution_count": 55,
   "metadata": {},
   "outputs": [
    {
     "data": {
      "text/plain": [
       "0.7770370370370371"
      ]
     },
     "execution_count": 55,
     "metadata": {},
     "output_type": "execute_result"
    }
   ],
   "source": [
    "knn.score(X_tr_pp, y_train)"
   ]
  },
  {
   "cell_type": "code",
   "execution_count": 56,
   "metadata": {},
   "outputs": [
    {
     "data": {
      "image/png": "[encoded data removed]",
      "text/plain": [
       "<Figure size 432x288 with 2 Axes>"
      ]
     },
     "metadata": {
      "needs_background": "light"
     },
     "output_type": "display_data"
    }
   ],
   "source": [
    "plot_confusion_matrix(knn, X_te_pp, y_test);"
   ]
  },
  {
   "cell_type": "markdown",
   "metadata": {},
   "source": [
    "## Model 2: Decision Tree"
   ]
  },
  {
   "cell_type": "code",
   "execution_count": 16,
   "metadata": {},
   "outputs": [
    {
     "data": {
      "text/plain": [
       "DecisionTreeClassifier(random_state=42)"
      ]
     },
     "execution_count": 16,
     "metadata": {},
     "output_type": "execute_result"
    }
   ],
   "source": [
    "dt = DecisionTreeClassifier(random_state=42)\n",
    "\n",
    "dt.fit(X_tr_pp, y_train)"
   ]
  },
  {
   "cell_type": "code",
   "execution_count": 17,
   "metadata": {},
   "outputs": [
    {
     "name": "stdout",
     "output_type": "stream",
     "text": [
      "Median score: 0.7773 (+/- 0.0056)\n"
     ]
    }
   ],
   "source": [
    "scores = cross_val_score(estimator=dt, X=X_tr_pp,\n",
    "                         y=y_train, cv=5)\n",
    "print(f\"Median score: {np.median(scores):.4f} (+/- {np.std(scores):.4f})\")"
   ]
  },
  {
   "cell_type": "code",
   "execution_count": 18,
   "metadata": {},
   "outputs": [
    {
     "data": {
      "text/plain": [
       "0.7788552188552188"
      ]
     },
     "execution_count": 18,
     "metadata": {},
     "output_type": "execute_result"
    }
   ],
   "source": [
    "dt.score(X_te_pp, y_test)"
   ]
  },
  {
   "cell_type": "code",
   "execution_count": 19,
   "metadata": {},
   "outputs": [
    {
     "data": {
      "text/plain": [
       "0.8295622895622896"
      ]
     },
     "execution_count": 19,
     "metadata": {},
     "output_type": "execute_result"
    }
   ],
   "source": [
    "dt.score(X_tr_pp, y_train)"
   ]
  },
  {
   "cell_type": "code",
   "execution_count": 20,
   "metadata": {},
   "outputs": [
    {
     "data": {
      "image/png": "[encoded data removed]",
      "text/plain": [
       "<Figure size 432x288 with 2 Axes>"
      ]
     },
     "metadata": {
      "needs_background": "light"
     },
     "output_type": "display_data"
    }
   ],
   "source": [
    "plot_confusion_matrix(dt, X_te_pp, y_test);"
   ]
  },
  {
   "cell_type": "markdown",
   "metadata": {},
   "source": [
    "## Model 3: Logistic Regression"
   ]
  },
  {
   "cell_type": "code",
   "execution_count": 21,
   "metadata": {},
   "outputs": [
    {
     "data": {
      "text/plain": [
       "LogisticRegression(max_iter=1000, random_state=42)"
      ]
     },
     "execution_count": 21,
     "metadata": {},
     "output_type": "execute_result"
    }
   ],
   "source": [
    "lr = LogisticRegression(max_iter=1000, random_state=42)\n",
    "\n",
    "lr.fit(X_tr_pp, y_train)"
   ]
  },
  {
   "cell_type": "code",
   "execution_count": 22,
   "metadata": {},
   "outputs": [
    {
     "name": "stdout",
     "output_type": "stream",
     "text": [
      "Median score: 0.7420 (+/- 0.0057)\n"
     ]
    }
   ],
   "source": [
    "scores = cross_val_score(estimator=lr, X=X_tr_pp,\n",
    "                         y=y_train, cv=5)\n",
    "print(f\"Median score: {np.median(scores):.4f} (+/- {np.std(scores):.4f})\")"
   ]
  },
  {
   "cell_type": "code",
   "execution_count": 23,
   "metadata": {},
   "outputs": [
    {
     "data": {
      "text/plain": [
       "0.7423569023569023"
      ]
     },
     "execution_count": 23,
     "metadata": {},
     "output_type": "execute_result"
    }
   ],
   "source": [
    "lr.score(X_te_pp, y_test)"
   ]
  },
  {
   "cell_type": "code",
   "execution_count": 24,
   "metadata": {
    "scrolled": true
   },
   "outputs": [
    {
     "data": {
      "text/plain": [
       "0.7427609427609427"
      ]
     },
     "execution_count": 24,
     "metadata": {},
     "output_type": "execute_result"
    }
   ],
   "source": [
    "lr.score(X_tr_pp, y_train)"
   ]
  },
  {
   "cell_type": "code",
   "execution_count": 25,
   "metadata": {},
   "outputs": [
    {
     "data": {
      "image/png": "[encoded data removed]",
      "text/plain": [
       "<Figure size 432x288 with 2 Axes>"
      ]
     },
     "metadata": {
      "needs_background": "light"
     },
     "output_type": "display_data"
    }
   ],
   "source": [
    "plot_confusion_matrix(lr, X_te_pp, y_test);"
   ]
  },
  {
   "cell_type": "markdown",
   "metadata": {},
   "source": [
    "## Model 4: Random Forest"
   ]
  },
  {
   "cell_type": "code",
   "execution_count": 75,
   "metadata": {},
   "outputs": [
    {
     "data": {
      "text/plain": [
       "RandomForestClassifier(max_depth=30, min_samples_leaf=7, n_estimators=150,\n",
       "                       random_state=42)"
      ]
     },
     "execution_count": 75,
     "metadata": {},
     "output_type": "execute_result"
    }
   ],
   "source": [
    "rfc = RandomForestClassifier(random_state=42, n_estimators=150, max_depth=30, min_samples_leaf=7)\n",
    "\n",
    "rfc.fit(X_tr_pp, y_train)"
   ]
  },
  {
   "cell_type": "code",
   "execution_count": 76,
   "metadata": {},
   "outputs": [
    {
     "name": "stdout",
     "output_type": "stream",
     "text": [
      "Median score: 0.7768 (+/- 0.0075)\n"
     ]
    }
   ],
   "source": [
    "scores = cross_val_score(estimator=rfc, X=X_tr_pp,\n",
    "                         y=y_train, cv=9)\n",
    "print(f\"Median score: {np.median(scores):.4f} (+/- {np.std(scores):.4f})\")"
   ]
  },
  {
   "cell_type": "code",
   "execution_count": 77,
   "metadata": {},
   "outputs": [
    {
     "data": {
      "text/plain": [
       "0.7744107744107744"
      ]
     },
     "execution_count": 77,
     "metadata": {},
     "output_type": "execute_result"
    }
   ],
   "source": [
    "rfc.score(X_te_pp, y_test)"
   ]
  },
  {
   "cell_type": "code",
   "execution_count": 78,
   "metadata": {},
   "outputs": [
    {
     "data": {
      "text/plain": [
       "0.7898316498316499"
      ]
     },
     "execution_count": 78,
     "metadata": {},
     "output_type": "execute_result"
    }
   ],
   "source": [
    "rfc.score(X_tr_pp, y_train)"
   ]
  },
  {
   "cell_type": "code",
   "execution_count": 79,
   "metadata": {},
   "outputs": [
    {
     "data": {
      "image/png": "[encoded data removed]",
      "text/plain": [
       "<Figure size 432x288 with 2 Axes>"
      ]
     },
     "metadata": {
      "needs_background": "light"
     },
     "output_type": "display_data"
    }
   ],
   "source": [
    "plot_confusion_matrix(rfc, X_te_pp, y_test);"
   ]
  },
  {
   "cell_type": "code",
   "execution_count": 80,
   "metadata": {},
   "outputs": [
    {
     "data": {
      "text/plain": [
       "0.7778393998743811"
      ]
     },
     "execution_count": 80,
     "metadata": {},
     "output_type": "execute_result"
    }
   ],
   "source": [
    "precision_score(y_test, rfc.predict(X_te_pp), average='weighted')"
   ]
  },
  {
   "cell_type": "markdown",
   "metadata": {},
   "source": [
    "## Model 5: XG Boost"
   ]
  },
  {
   "cell_type": "code",
   "execution_count": 32,
   "metadata": {},
   "outputs": [
    {
     "data": {
      "text/plain": [
       "XGBClassifier(base_score=0.5, booster='gbtree', colsample_bylevel=1,\n",
       "              colsample_bynode=1, colsample_bytree=1, gamma=0, gpu_id=-1,\n",
       "              importance_type='gain', interaction_constraints='',\n",
       "              learning_rate=0.25, max_delta_step=0, max_depth=12,\n",
       "              min_child_weight=1, missing=nan, monotone_constraints='()',\n",
       "              n_estimators=75, n_jobs=0, num_parallel_tree=1, random_state=42,\n",
       "              reg_alpha=0, reg_lambda=1, scale_pos_weight=1, subsample=1,\n",
       "              tree_method='exact', validate_parameters=1, verbosity=None)"
      ]
     },
     "execution_count": 32,
     "metadata": {},
     "output_type": "execute_result"
    }
   ],
   "source": [
    "xgb_model = xgb.XGBClassifier(random_state=42, learning_rate=.25, \n",
    "                              max_depth=12, n_estimators=75)\n",
    "\n",
    "xgb_model.fit(X_tr_pp, y_train)"
   ]
  },
  {
   "cell_type": "code",
   "execution_count": 33,
   "metadata": {
    "scrolled": true
   },
   "outputs": [
    {
     "name": "stdout",
     "output_type": "stream",
     "text": [
      "Train Score: 0.8210998877665544\n",
      "Test Score: 0.7825589225589226\n"
     ]
    }
   ],
   "source": [
    "print(f\"Train Score: {xgb_model.score(X_tr_pp, y_train)}\")\n",
    "print(f\"Test Score: {xgb_model.score(X_te_pp, y_test)}\")"
   ]
  },
  {
   "cell_type": "code",
   "execution_count": 34,
   "metadata": {},
   "outputs": [
    {
     "data": {
      "image/png": "[encoded data removed]",
      "text/plain": [
       "<Figure size 432x288 with 2 Axes>"
      ]
     },
     "metadata": {
      "needs_background": "light"
     },
     "output_type": "display_data"
    }
   ],
   "source": [
    "plot_confusion_matrix(xgb_model, X_te_pp, y_test);"
   ]
  },
  {
   "cell_type": "markdown",
   "metadata": {},
   "source": [
    "## Model 6: Naive Bayes (Bernoulli)"
   ]
  },
  {
   "cell_type": "code",
   "execution_count": 35,
   "metadata": {},
   "outputs": [
    {
     "name": "stdout",
     "output_type": "stream",
     "text": [
      "Naive Bayes Train Accuracy: 0.6694\n",
      "Naive Bayes Test Accuracy: 0.6646\n"
     ]
    }
   ],
   "source": [
    "nb = BernoulliNB()\n",
    "\n",
    "nb.fit(X_tr_pp,y_train)\n",
    "\n",
    "train_preds = nb.predict(X_tr_pp)\n",
    "y_preds = nb.predict(X_te_pp)\n",
    "\n",
    "\n",
    "print(f'Naive Bayes Train Accuracy: {accuracy_score(y_train, train_preds):.4f}')\n",
    "print(f'Naive Bayes Test Accuracy: {accuracy_score(y_test, y_preds):.4f}')\n"
   ]
  },
  {
   "cell_type": "code",
   "execution_count": 36,
   "metadata": {},
   "outputs": [
    {
     "data": {
      "image/png": "[encoded data removed]",
      "text/plain": [
       "<Figure size 432x288 with 2 Axes>"
      ]
     },
     "metadata": {
      "needs_background": "light"
     },
     "output_type": "display_data"
    }
   ],
   "source": [
    "plot_confusion_matrix(nb, X_te_pp, y_test);"
   ]
  },
  {
   "cell_type": "markdown",
   "metadata": {},
   "source": [
    "The models we decided to focus on were the XG Boost model and the Random Forest model."
   ]
  },
  {
   "cell_type": "markdown",
   "metadata": {},
   "source": [
    "## Tuning with GridSearchCV"
   ]
  },
  {
   "cell_type": "markdown",
   "metadata": {},
   "source": [
    "We took our two best models and ran grid searches to find the best parameters to get the best precision score to lower the number of false positives. "
   ]
  },
  {
   "cell_type": "markdown",
   "metadata": {},
   "source": [
    "### Random Forest Model"
   ]
  },
  {
   "cell_type": "code",
   "execution_count": 37,
   "metadata": {},
   "outputs": [],
   "source": [
    "rfc_cv = Pipeline(steps=[\n",
    "    ('preprocessor', pp), \n",
    "    ('tree', RandomForestClassifier(max_depth=7, random_state=42))\n",
    "])"
   ]
  },
  {
   "cell_type": "code",
   "execution_count": 38,
   "metadata": {},
   "outputs": [],
   "source": [
    "param_grid = {\n",
    "    'tree__n_estimators':[100, 150, 75],\n",
    "    'tree__max_depth':[22, 30, 14, 5], \n",
    "    'tree__min_samples_leaf':[7, 45, 23]\n",
    "}"
   ]
  },
  {
   "cell_type": "code",
   "execution_count": 39,
   "metadata": {},
   "outputs": [],
   "source": [
    "y_train_fix = y_train.map({'functional': 1, 'non functional/needs repair':0})"
   ]
  },
  {
   "cell_type": "code",
   "execution_count": 40,
   "metadata": {},
   "outputs": [
    {
     "data": {
      "text/plain": [
       "GridSearchCV(cv=5,\n",
       "             estimator=Pipeline(steps=[('preprocessor',\n",
       "                                        ColumnTransformer(transformers=[('num',\n",
       "                                                                         Pipeline(steps=[('scaler',\n",
       "                                                                                          StandardScaler())]),\n",
       "                                                                         Index(['near_pop', 'has_static', 'has_year'], dtype='object')),\n",
       "                                                                        ('cat',\n",
       "                                                                         Pipeline(steps=[('ohe',\n",
       "                                                                                          OneHotEncoder(drop='first',\n",
       "                                                                                                        sparse=False))]),\n",
       "                                                                         Index(['basin', 'region', 'extraction_type_class', 'management',\n",
       "       'management_group', 'payment_type', 'quality_group', 'quantity_group',\n",
       "       'source_type', 'source_class', 'waterpoint_type_group', 'level'],\n",
       "      dtype='object'))])),\n",
       "                                       ('tree',\n",
       "                                        RandomForestClassifier(max_depth=7,\n",
       "                                                               random_state=42))]),\n",
       "             param_grid={'tree__max_depth': [22, 30, 14, 5],\n",
       "                         'tree__min_samples_leaf': [7, 45, 23],\n",
       "                         'tree__n_estimators': [100, 150, 75]},\n",
       "             scoring='f1')"
      ]
     },
     "execution_count": 40,
     "metadata": {},
     "output_type": "execute_result"
    }
   ],
   "source": [
    "gs_rfc = GridSearchCV(rfc_cv, param_grid, cv=5, scoring='f1')\n",
    "\n",
    "\n",
    "gs_rfc.fit(X_train, y_train_fix)"
   ]
  },
  {
   "cell_type": "code",
   "execution_count": 41,
   "metadata": {},
   "outputs": [
    {
     "data": {
      "text/plain": [
       "{'tree__max_depth': 30, 'tree__min_samples_leaf': 7, 'tree__n_estimators': 100}"
      ]
     },
     "execution_count": 41,
     "metadata": {},
     "output_type": "execute_result"
    }
   ],
   "source": [
    "gs_rfc.best_params_"
   ]
  },
  {
   "cell_type": "markdown",
   "metadata": {},
   "source": [
    "### XG Boost Model"
   ]
  },
  {
   "cell_type": "code",
   "execution_count": 42,
   "metadata": {},
   "outputs": [],
   "source": [
    "xgb_cv = Pipeline(steps=[\n",
    "    ('preprocessor', pp), \n",
    "    ('XGB', xgb.XGBClassifier())\n",
    "])"
   ]
  },
  {
   "cell_type": "code",
   "execution_count": 43,
   "metadata": {},
   "outputs": [],
   "source": [
    "param_xgb = {\n",
    "    'XGB__n_estimators':[25, 75, 125], \n",
    "    'XGB__learning_rate':[.25, .5, .75],\n",
    "    'XGB__max_depth':[5, 12, 20]\n",
    "}"
   ]
  },
  {
   "cell_type": "code",
   "execution_count": 44,
   "metadata": {},
   "outputs": [
    {
     "data": {
      "text/plain": [
       "GridSearchCV(cv=5,\n",
       "             estimator=Pipeline(steps=[('preprocessor',\n",
       "                                        ColumnTransformer(transformers=[('num',\n",
       "                                                                         Pipeline(steps=[('scaler',\n",
       "                                                                                          StandardScaler())]),\n",
       "                                                                         Index(['near_pop', 'has_static', 'has_year'], dtype='object')),\n",
       "                                                                        ('cat',\n",
       "                                                                         Pipeline(steps=[('ohe',\n",
       "                                                                                          OneHotEncoder(drop='first',\n",
       "                                                                                                        sparse=False))]),\n",
       "                                                                         Index(['basin', 'region', 'extraction_type_class', 'management',\n",
       "       'managemen...\n",
       "                                                      monotone_constraints=None,\n",
       "                                                      n_estimators=100,\n",
       "                                                      n_jobs=None,\n",
       "                                                      num_parallel_tree=None,\n",
       "                                                      random_state=None,\n",
       "                                                      reg_alpha=None,\n",
       "                                                      reg_lambda=None,\n",
       "                                                      scale_pos_weight=None,\n",
       "                                                      subsample=None,\n",
       "                                                      tree_method=None,\n",
       "                                                      validate_parameters=None,\n",
       "                                                      verbosity=None))]),\n",
       "             param_grid={'XGB__learning_rate': [0.25, 0.5, 0.75],\n",
       "                         'XGB__max_depth': [5, 12, 20],\n",
       "                         'XGB__n_estimators': [25, 75, 125]},\n",
       "             scoring='accuracy')"
      ]
     },
     "execution_count": 44,
     "metadata": {},
     "output_type": "execute_result"
    }
   ],
   "source": [
    "gs_xgb = GridSearchCV(xgb_cv, param_xgb, cv=5, scoring='accuracy')\n",
    "\n",
    "\n",
    "gs_xgb.fit(X_train, y_train)"
   ]
  },
  {
   "cell_type": "code",
   "execution_count": 45,
   "metadata": {},
   "outputs": [
    {
     "data": {
      "text/plain": [
       "{'XGB__learning_rate': 0.25, 'XGB__max_depth': 12, 'XGB__n_estimators': 75}"
      ]
     },
     "execution_count": 45,
     "metadata": {},
     "output_type": "execute_result"
    }
   ],
   "source": [
    "gs_xgb.best_params_"
   ]
  }
 ],
 "metadata": {
  "kernelspec": {
   "display_name": "Python (learn-env)",
   "language": "python",
   "name": "learn-env"
  },
  "language_info": {
   "codemirror_mode": {
    "name": "ipython",
    "version": 3
   },
   "file_extension": ".py",
   "mimetype": "text/x-python",
   "name": "python",
   "nbconvert_exporter": "python",
   "pygments_lexer": "ipython3",
   "version": "3.8.5"
  }
 },
 "nbformat": 4,
 "nbformat_minor": 4
}
