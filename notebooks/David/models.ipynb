{
 "cells": [
  {
   "cell_type": "code",
   "execution_count": 111,
   "metadata": {},
   "outputs": [],
   "source": [
    "import pandas as pd\n",
    "import numpy as np\n",
    "import matplotlib.pyplot as plt\n",
    "import seaborn as sns\n",
    "import xgboost as xgb\n",
    "from sklearn.impute import SimpleImputer\n",
    "from sklearn.model_selection import train_test_split, cross_val_score, GridSearchCV\n",
    "from sklearn.metrics import precision_score, recall_score, confusion_matrix, roc_auc_score\n",
    "from sklearn.tree import DecisionTreeClassifier\n",
    "from sklearn.datasets import fetch_20newsgroups\n",
    "from sklearn.feature_extraction.text import CountVectorizer\n",
    "from sklearn.naive_bayes import MultinomialNB\n",
    "from sklearn.metrics import accuracy_score, recall_score, precision_score, f1_score \n",
    "from sklearn.metrics import plot_roc_curve, plot_confusion_matrix, confusion_matrix, mean_squared_error\n",
    "from sklearn.neighbors import KNeighborsClassifier\n",
    "from sklearn.linear_model import LinearRegression, LogisticRegression\n",
    "from sklearn.preprocessing import StandardScaler, OneHotEncoder, MinMaxScaler\n",
    "from sklearn.pipeline import Pipeline\n",
    "from sklearn.ensemble import BaggingClassifier, RandomForestClassifier, StackingClassifier\n",
    "from sklearn.ensemble import VotingClassifier\n",
    "from sklearn.ensemble import AdaBoostClassifier\n",
    "from sklearn.ensemble import GradientBoostingClassifier\n",
    "from sklearn.compose import ColumnTransformer"
   ]
  },
  {
   "cell_type": "code",
   "execution_count": 2,
   "metadata": {},
   "outputs": [],
   "source": [
    "data = pd.read_csv('../../data/clean_wells.csv')"
   ]
  },
  {
   "cell_type": "code",
   "execution_count": 3,
   "metadata": {},
   "outputs": [],
   "source": [
    "data = data.drop(columns='Unnamed: 0')"
   ]
  },
  {
   "cell_type": "code",
   "execution_count": 4,
   "metadata": {},
   "outputs": [
    {
     "data": {
      "text/html": [
       "<div>\n",
       "<style scoped>\n",
       "    .dataframe tbody tr th:only-of-type {\n",
       "        vertical-align: middle;\n",
       "    }\n",
       "\n",
       "    .dataframe tbody tr th {\n",
       "        vertical-align: top;\n",
       "    }\n",
       "\n",
       "    .dataframe thead th {\n",
       "        text-align: right;\n",
       "    }\n",
       "</style>\n",
       "<table border=\"1\" class=\"dataframe\">\n",
       "  <thead>\n",
       "    <tr style=\"text-align: right;\">\n",
       "      <th></th>\n",
       "      <th>amount_tsh</th>\n",
       "      <th>gps_height</th>\n",
       "      <th>basin</th>\n",
       "      <th>region</th>\n",
       "      <th>population</th>\n",
       "      <th>construction_year</th>\n",
       "      <th>extraction_type_class</th>\n",
       "      <th>management</th>\n",
       "      <th>management_group</th>\n",
       "      <th>payment_type</th>\n",
       "      <th>quality_group</th>\n",
       "      <th>quantity_group</th>\n",
       "      <th>source_type</th>\n",
       "      <th>source_class</th>\n",
       "      <th>waterpoint_type_group</th>\n",
       "      <th>status_group</th>\n",
       "      <th>near_pop</th>\n",
       "      <th>level</th>\n",
       "      <th>has_static</th>\n",
       "      <th>has_year</th>\n",
       "    </tr>\n",
       "  </thead>\n",
       "  <tbody>\n",
       "    <tr>\n",
       "      <th>0</th>\n",
       "      <td>6000.0</td>\n",
       "      <td>1390</td>\n",
       "      <td>Lake Nyasa</td>\n",
       "      <td>Iringa</td>\n",
       "      <td>109</td>\n",
       "      <td>1999</td>\n",
       "      <td>gravity</td>\n",
       "      <td>vwc</td>\n",
       "      <td>user-group</td>\n",
       "      <td>annually</td>\n",
       "      <td>good</td>\n",
       "      <td>enough</td>\n",
       "      <td>spring</td>\n",
       "      <td>groundwater</td>\n",
       "      <td>communal standpipe</td>\n",
       "      <td>functional</td>\n",
       "      <td>True</td>\n",
       "      <td>above</td>\n",
       "      <td>True</td>\n",
       "      <td>True</td>\n",
       "    </tr>\n",
       "    <tr>\n",
       "      <th>1</th>\n",
       "      <td>0.0</td>\n",
       "      <td>1399</td>\n",
       "      <td>Lake Victoria</td>\n",
       "      <td>Mara</td>\n",
       "      <td>280</td>\n",
       "      <td>2010</td>\n",
       "      <td>gravity</td>\n",
       "      <td>wug</td>\n",
       "      <td>user-group</td>\n",
       "      <td>never pay</td>\n",
       "      <td>good</td>\n",
       "      <td>insufficient</td>\n",
       "      <td>rainwater harvesting</td>\n",
       "      <td>surface</td>\n",
       "      <td>communal standpipe</td>\n",
       "      <td>functional</td>\n",
       "      <td>True</td>\n",
       "      <td>above</td>\n",
       "      <td>False</td>\n",
       "      <td>True</td>\n",
       "    </tr>\n",
       "    <tr>\n",
       "      <th>2</th>\n",
       "      <td>25.0</td>\n",
       "      <td>686</td>\n",
       "      <td>Pangani</td>\n",
       "      <td>Manyara</td>\n",
       "      <td>250</td>\n",
       "      <td>2009</td>\n",
       "      <td>gravity</td>\n",
       "      <td>vwc</td>\n",
       "      <td>user-group</td>\n",
       "      <td>per bucket</td>\n",
       "      <td>good</td>\n",
       "      <td>enough</td>\n",
       "      <td>dam</td>\n",
       "      <td>surface</td>\n",
       "      <td>communal standpipe</td>\n",
       "      <td>functional</td>\n",
       "      <td>True</td>\n",
       "      <td>above</td>\n",
       "      <td>True</td>\n",
       "      <td>True</td>\n",
       "    </tr>\n",
       "    <tr>\n",
       "      <th>3</th>\n",
       "      <td>0.0</td>\n",
       "      <td>263</td>\n",
       "      <td>Ruvuma / Southern Coast</td>\n",
       "      <td>Mtwara</td>\n",
       "      <td>58</td>\n",
       "      <td>1986</td>\n",
       "      <td>submersible</td>\n",
       "      <td>vwc</td>\n",
       "      <td>user-group</td>\n",
       "      <td>never pay</td>\n",
       "      <td>good</td>\n",
       "      <td>dry</td>\n",
       "      <td>borehole</td>\n",
       "      <td>groundwater</td>\n",
       "      <td>communal standpipe</td>\n",
       "      <td>non functional/needs repair</td>\n",
       "      <td>True</td>\n",
       "      <td>above</td>\n",
       "      <td>False</td>\n",
       "      <td>True</td>\n",
       "    </tr>\n",
       "    <tr>\n",
       "      <th>4</th>\n",
       "      <td>0.0</td>\n",
       "      <td>0</td>\n",
       "      <td>Lake Victoria</td>\n",
       "      <td>Kagera</td>\n",
       "      <td>0</td>\n",
       "      <td>0</td>\n",
       "      <td>gravity</td>\n",
       "      <td>other</td>\n",
       "      <td>other</td>\n",
       "      <td>never pay</td>\n",
       "      <td>good</td>\n",
       "      <td>seasonal</td>\n",
       "      <td>rainwater harvesting</td>\n",
       "      <td>surface</td>\n",
       "      <td>communal standpipe</td>\n",
       "      <td>functional</td>\n",
       "      <td>False</td>\n",
       "      <td>level</td>\n",
       "      <td>False</td>\n",
       "      <td>False</td>\n",
       "    </tr>\n",
       "  </tbody>\n",
       "</table>\n",
       "</div>"
      ],
      "text/plain": [
       "   amount_tsh  gps_height                    basin   region  population  \\\n",
       "0      6000.0        1390               Lake Nyasa   Iringa         109   \n",
       "1         0.0        1399            Lake Victoria     Mara         280   \n",
       "2        25.0         686                  Pangani  Manyara         250   \n",
       "3         0.0         263  Ruvuma / Southern Coast   Mtwara          58   \n",
       "4         0.0           0            Lake Victoria   Kagera           0   \n",
       "\n",
       "   construction_year extraction_type_class management management_group  \\\n",
       "0               1999               gravity        vwc       user-group   \n",
       "1               2010               gravity        wug       user-group   \n",
       "2               2009               gravity        vwc       user-group   \n",
       "3               1986           submersible        vwc       user-group   \n",
       "4                  0               gravity      other            other   \n",
       "\n",
       "  payment_type quality_group quantity_group           source_type  \\\n",
       "0     annually          good         enough                spring   \n",
       "1    never pay          good   insufficient  rainwater harvesting   \n",
       "2   per bucket          good         enough                   dam   \n",
       "3    never pay          good            dry              borehole   \n",
       "4    never pay          good       seasonal  rainwater harvesting   \n",
       "\n",
       "  source_class waterpoint_type_group                 status_group  near_pop  \\\n",
       "0  groundwater    communal standpipe                   functional      True   \n",
       "1      surface    communal standpipe                   functional      True   \n",
       "2      surface    communal standpipe                   functional      True   \n",
       "3  groundwater    communal standpipe  non functional/needs repair      True   \n",
       "4      surface    communal standpipe                   functional     False   \n",
       "\n",
       "   level  has_static  has_year  \n",
       "0  above        True      True  \n",
       "1  above       False      True  \n",
       "2  above        True      True  \n",
       "3  above       False      True  \n",
       "4  level       False     False  "
      ]
     },
     "execution_count": 4,
     "metadata": {},
     "output_type": "execute_result"
    }
   ],
   "source": [
    "data.head()"
   ]
  },
  {
   "cell_type": "markdown",
   "metadata": {},
   "source": [
    "## MODELO TIME!!"
   ]
  },
  {
   "cell_type": "code",
   "execution_count": 5,
   "metadata": {},
   "outputs": [],
   "source": [
    "X = data.drop(columns = ['status_group', 'amount_tsh', 'gps_height', 'population', 'construction_year', 'has_year'])\n",
    "y = data['status_group']\n",
    "\n",
    "X_train, X_test, y_train, y_test = train_test_split(\n",
    "    X, y, test_size=0.25, random_state=42)"
   ]
  },
  {
   "cell_type": "code",
   "execution_count": 6,
   "metadata": {},
   "outputs": [],
   "source": [
    "y_map = {'functional': 1, 'non functional/needs repair':0}\n",
    "y_train_fix = y_train.map(y_map)\n"
   ]
  },
  {
   "cell_type": "code",
   "execution_count": 7,
   "metadata": {},
   "outputs": [],
   "source": [
    "y_test_fix = y_test.map(y_map)"
   ]
  },
  {
   "cell_type": "markdown",
   "metadata": {},
   "source": [
    "- creating a seperate cat cols and num cols\n",
    "- scaling and ohe\n",
    "- creating pipeline to make models"
   ]
  },
  {
   "cell_type": "code",
   "execution_count": 8,
   "metadata": {},
   "outputs": [
    {
     "data": {
      "text/html": [
       "<div>\n",
       "<style scoped>\n",
       "    .dataframe tbody tr th:only-of-type {\n",
       "        vertical-align: middle;\n",
       "    }\n",
       "\n",
       "    .dataframe tbody tr th {\n",
       "        vertical-align: top;\n",
       "    }\n",
       "\n",
       "    .dataframe thead th {\n",
       "        text-align: right;\n",
       "    }\n",
       "</style>\n",
       "<table border=\"1\" class=\"dataframe\">\n",
       "  <thead>\n",
       "    <tr style=\"text-align: right;\">\n",
       "      <th></th>\n",
       "      <th>basin</th>\n",
       "      <th>region</th>\n",
       "      <th>extraction_type_class</th>\n",
       "      <th>management</th>\n",
       "      <th>management_group</th>\n",
       "      <th>payment_type</th>\n",
       "      <th>quality_group</th>\n",
       "      <th>quantity_group</th>\n",
       "      <th>source_type</th>\n",
       "      <th>source_class</th>\n",
       "      <th>waterpoint_type_group</th>\n",
       "      <th>near_pop</th>\n",
       "      <th>level</th>\n",
       "      <th>has_static</th>\n",
       "    </tr>\n",
       "  </thead>\n",
       "  <tbody>\n",
       "    <tr>\n",
       "      <th>0</th>\n",
       "      <td>Lake Nyasa</td>\n",
       "      <td>Iringa</td>\n",
       "      <td>gravity</td>\n",
       "      <td>vwc</td>\n",
       "      <td>user-group</td>\n",
       "      <td>annually</td>\n",
       "      <td>good</td>\n",
       "      <td>enough</td>\n",
       "      <td>spring</td>\n",
       "      <td>groundwater</td>\n",
       "      <td>communal standpipe</td>\n",
       "      <td>True</td>\n",
       "      <td>above</td>\n",
       "      <td>True</td>\n",
       "    </tr>\n",
       "    <tr>\n",
       "      <th>1</th>\n",
       "      <td>Lake Victoria</td>\n",
       "      <td>Mara</td>\n",
       "      <td>gravity</td>\n",
       "      <td>wug</td>\n",
       "      <td>user-group</td>\n",
       "      <td>never pay</td>\n",
       "      <td>good</td>\n",
       "      <td>insufficient</td>\n",
       "      <td>rainwater harvesting</td>\n",
       "      <td>surface</td>\n",
       "      <td>communal standpipe</td>\n",
       "      <td>True</td>\n",
       "      <td>above</td>\n",
       "      <td>False</td>\n",
       "    </tr>\n",
       "    <tr>\n",
       "      <th>2</th>\n",
       "      <td>Pangani</td>\n",
       "      <td>Manyara</td>\n",
       "      <td>gravity</td>\n",
       "      <td>vwc</td>\n",
       "      <td>user-group</td>\n",
       "      <td>per bucket</td>\n",
       "      <td>good</td>\n",
       "      <td>enough</td>\n",
       "      <td>dam</td>\n",
       "      <td>surface</td>\n",
       "      <td>communal standpipe</td>\n",
       "      <td>True</td>\n",
       "      <td>above</td>\n",
       "      <td>True</td>\n",
       "    </tr>\n",
       "  </tbody>\n",
       "</table>\n",
       "</div>"
      ],
      "text/plain": [
       "           basin   region extraction_type_class management management_group  \\\n",
       "0     Lake Nyasa   Iringa               gravity        vwc       user-group   \n",
       "1  Lake Victoria     Mara               gravity        wug       user-group   \n",
       "2        Pangani  Manyara               gravity        vwc       user-group   \n",
       "\n",
       "  payment_type quality_group quantity_group           source_type  \\\n",
       "0     annually          good         enough                spring   \n",
       "1    never pay          good   insufficient  rainwater harvesting   \n",
       "2   per bucket          good         enough                   dam   \n",
       "\n",
       "  source_class waterpoint_type_group  near_pop  level  has_static  \n",
       "0  groundwater    communal standpipe      True  above        True  \n",
       "1      surface    communal standpipe      True  above       False  \n",
       "2      surface    communal standpipe      True  above        True  "
      ]
     },
     "execution_count": 8,
     "metadata": {},
     "output_type": "execute_result"
    }
   ],
   "source": [
    "X.head(3)"
   ]
  },
  {
   "cell_type": "code",
   "execution_count": 9,
   "metadata": {},
   "outputs": [],
   "source": [
    "cat_cols = X.select_dtypes(include=\"object\").columns\n",
    "num_cols = X.select_dtypes(exclude=\"object\").columns"
   ]
  },
  {
   "cell_type": "code",
   "execution_count": 10,
   "metadata": {
    "scrolled": false
   },
   "outputs": [
    {
     "data": {
      "text/plain": [
       "Index(['basin', 'region', 'extraction_type_class', 'management',\n",
       "       'management_group', 'payment_type', 'quality_group', 'quantity_group',\n",
       "       'source_type', 'source_class', 'waterpoint_type_group', 'level'],\n",
       "      dtype='object')"
      ]
     },
     "execution_count": 10,
     "metadata": {},
     "output_type": "execute_result"
    }
   ],
   "source": [
    "cat_cols"
   ]
  },
  {
   "cell_type": "code",
   "execution_count": 11,
   "metadata": {
    "scrolled": true
   },
   "outputs": [
    {
     "data": {
      "text/plain": [
       "Index(['near_pop', 'has_static'], dtype='object')"
      ]
     },
     "execution_count": 11,
     "metadata": {},
     "output_type": "execute_result"
    }
   ],
   "source": [
    "num_cols"
   ]
  },
  {
   "cell_type": "code",
   "execution_count": 12,
   "metadata": {},
   "outputs": [],
   "source": [
    "num_trans = Pipeline(steps=[\n",
    "    ('scaler', MinMaxScaler())\n",
    "])\n",
    "cat_trans = Pipeline(steps=[\n",
    "    ('ohe', OneHotEncoder(drop='first',\n",
    "                          sparse=False))\n",
    "])"
   ]
  },
  {
   "cell_type": "code",
   "execution_count": 13,
   "metadata": {},
   "outputs": [],
   "source": [
    "preprocessor = ColumnTransformer(transformers=[\n",
    "    ('num', num_trans, num_cols),\n",
    "    ('cat', cat_trans, cat_cols)\n",
    "])"
   ]
  },
  {
   "cell_type": "code",
   "execution_count": 14,
   "metadata": {},
   "outputs": [],
   "source": [
    "preprocessor.fit(X_train)\n",
    "X_tr_pr = preprocessor.transform(X_train)\n",
    "X_te_pr = preprocessor.transform(X_test)"
   ]
  },
  {
   "cell_type": "markdown",
   "metadata": {},
   "source": [
    "## Decision Tree Model"
   ]
  },
  {
   "cell_type": "code",
   "execution_count": 15,
   "metadata": {
    "scrolled": true
   },
   "outputs": [
    {
     "name": "stdout",
     "output_type": "stream",
     "text": [
      "Median Train score: 0.7751 (+/- 0.0075)\n",
      "Test Score: 0.774074074074074\n"
     ]
    }
   ],
   "source": [
    "dt = DecisionTreeClassifier(random_state=42)\n",
    "dt.fit(X_tr_pr, y_train_fix)\n",
    "\n",
    "dt_scores_cv = cross_val_score(dt, X_tr_pr, y_train_fix, cv=5)\n",
    "\n",
    "print(f\"Median Train score: {np.median(dt_scores_cv):.4f} (+/- {np.std(dt_scores_cv):.4f})\")\n",
    "\n",
    "print('Test Score:', dt.score(X_te_pr, y_test_fix))"
   ]
  },
  {
   "cell_type": "code",
   "execution_count": 16,
   "metadata": {},
   "outputs": [
    {
     "data": {
      "text/plain": [
       "array([0, 1, 1, ..., 0, 1, 0], dtype=int64)"
      ]
     },
     "execution_count": 16,
     "metadata": {},
     "output_type": "execute_result"
    }
   ],
   "source": [
    "dt.predict(X_te_pr)"
   ]
  },
  {
   "cell_type": "code",
   "execution_count": 17,
   "metadata": {},
   "outputs": [
    {
     "data": {
      "text/plain": [
       "<sklearn.metrics._plot.roc_curve.RocCurveDisplay at 0x27e9e9ad850>"
      ]
     },
     "execution_count": 17,
     "metadata": {},
     "output_type": "execute_result"
    },
    {
     "data": {
      "image/png": "[encoded data removed]",
      "text/plain": [
       "<Figure size 432x288 with 2 Axes>"
      ]
     },
     "metadata": {
      "needs_background": "light"
     },
     "output_type": "display_data"
    },
    {
     "data": {
      "image/png": "[encoded data removed]",
      "text/plain": [
       "<Figure size 432x288 with 1 Axes>"
      ]
     },
     "metadata": {
      "needs_background": "light"
     },
     "output_type": "display_data"
    }
   ],
   "source": [
    "plot_confusion_matrix(dt, X_te_pr, y_test_fix, display_labels=['not functional', 'functional']);\n",
    "plot_roc_curve(dt, X_te_pr, y_test_fix)"
   ]
  },
  {
   "cell_type": "markdown",
   "metadata": {},
   "source": [
    "## AdaBoost"
   ]
  },
  {
   "cell_type": "code",
   "execution_count": 18,
   "metadata": {},
   "outputs": [
    {
     "name": "stdout",
     "output_type": "stream",
     "text": [
      "Train Score: 0.7268462401795736\n",
      "Test Score: 0.7248484848484849\n"
     ]
    }
   ],
   "source": [
    "ada = AdaBoostClassifier(random_state=42)\n",
    "\n",
    "ada.fit(X_tr_pr, y_train_fix)\n",
    "\n",
    "print(f\"Train Score: {ada.score(X_tr_pr, y_train_fix)}\")\n",
    "print(f\"Test Score: {ada.score(X_te_pr, y_test_fix)}\")"
   ]
  },
  {
   "cell_type": "code",
   "execution_count": 19,
   "metadata": {},
   "outputs": [
    {
     "data": {
      "text/plain": [
       "<sklearn.metrics._plot.roc_curve.RocCurveDisplay at 0x27ea59b6370>"
      ]
     },
     "execution_count": 19,
     "metadata": {},
     "output_type": "execute_result"
    },
    {
     "data": {
      "image/png": "[encoded data removed]",
      "text/plain": [
       "<Figure size 432x288 with 2 Axes>"
      ]
     },
     "metadata": {
      "needs_background": "light"
     },
     "output_type": "display_data"
    },
    {
     "data": {
      "image/png": "[encoded data removed]",
      "text/plain": [
       "<Figure size 432x288 with 1 Axes>"
      ]
     },
     "metadata": {
      "needs_background": "light"
     },
     "output_type": "display_data"
    }
   ],
   "source": [
    "plot_confusion_matrix(ada, X_te_pr, y_test_fix);\n",
    "plot_roc_curve(ada, X_te_pr, y_test_fix)"
   ]
  },
  {
   "cell_type": "markdown",
   "metadata": {},
   "source": [
    "## Random Forest"
   ]
  },
  {
   "cell_type": "code",
   "execution_count": 20,
   "metadata": {},
   "outputs": [
    {
     "name": "stdout",
     "output_type": "stream",
     "text": [
      "Train Median score: 0.7734 (+/- 0.0083)\n",
      "Test Score: 0.7744107744107744\n"
     ]
    }
   ],
   "source": [
    "rfc = RandomForestClassifier(random_state=42, n_estimators=150, max_depth=30, min_samples_leaf=7)\n",
    "rfc.fit(X_tr_pr, y_train_fix)\n",
    "\n",
    "rfc_scores = cross_val_score(estimator=rfc, X=X_tr_pr, y=y_train_fix, cv=5)\n",
    "\n",
    "print(f\"Train Median score: {np.median(rfc_scores):.4f} (+/- {np.std(rfc_scores):.4f})\")\n",
    "print('Test Score:',rfc.score(X_te_pr, y_test_fix))"
   ]
  },
  {
   "cell_type": "code",
   "execution_count": 21,
   "metadata": {
    "scrolled": false
   },
   "outputs": [
    {
     "data": {
      "text/plain": [
       "<sklearn.metrics._plot.roc_curve.RocCurveDisplay at 0x27ea6067df0>"
      ]
     },
     "execution_count": 21,
     "metadata": {},
     "output_type": "execute_result"
    },
    {
     "data": {
      "image/png": "[encoded data removed]",
      "text/plain": [
       "<Figure size 432x288 with 2 Axes>"
      ]
     },
     "metadata": {
      "needs_background": "light"
     },
     "output_type": "display_data"
    },
    {
     "data": {
      "image/png": "[encoded data removed]",
      "text/plain": [
       "<Figure size 432x288 with 1 Axes>"
      ]
     },
     "metadata": {
      "needs_background": "light"
     },
     "output_type": "display_data"
    }
   ],
   "source": [
    "plot_confusion_matrix(rfc, X_te_pr, y_test_fix);\n",
    "plot_roc_curve(rfc, X_te_pr, y_test_fix)"
   ]
  },
  {
   "cell_type": "markdown",
   "metadata": {},
   "source": [
    "## XGBOOST"
   ]
  },
  {
   "cell_type": "markdown",
   "metadata": {},
   "source": [
    "- For a more robust fix, you will need to run hyperparamter tuning search. Especially you should try different values of : scale_pos_weight, alpha, lambda, gamma and min_child_weight. Since they are the ones with the most impact on how conservative the model is going to be."
   ]
  },
  {
   "cell_type": "markdown",
   "metadata": {},
   "source": [
    "**best f1 score params**\n",
    "\n",
    "precision ----\n",
    "xgb_model = xgb.XGBClassifier(scale_pos_weight=0.1, reg_alpha=5, min_child_weight=0.1, random_state=42)\n",
    "\n",
    "f1, roc_auc----\n",
    "xgb_model = xgb.XGBClassifier(scale_pos_weight=5, reg_alpha=0.1, min_child_weight=0.1, random_state=42)"
   ]
  },
  {
   "cell_type": "code",
   "execution_count": 58,
   "metadata": {},
   "outputs": [
    {
     "name": "stdout",
     "output_type": "stream",
     "text": [
      "Train Score: 0.74996632996633\n",
      "Test Score: 0.7349494949494949\n"
     ]
    }
   ],
   "source": [
    "xgb_model = xgb.XGBClassifier(scale_pos_weight=5, reg_alpha=0.1, min_child_weight=0.1, random_state=42)\n",
    "\n",
    "xgb_model.fit(X_tr_pr, y_train_fix)\n",
    "\n",
    "print(f\"Train Score: {xgb_model.score(X_tr_pr, y_train_fix)}\")\n",
    "print(f\"Test Score: {xgb_model.score(X_te_pr, y_test_fix)}\")"
   ]
  },
  {
   "cell_type": "code",
   "execution_count": 59,
   "metadata": {},
   "outputs": [
    {
     "data": {
      "text/plain": [
       "0.9043771043771044"
      ]
     },
     "execution_count": 59,
     "metadata": {},
     "output_type": "execute_result"
    }
   ],
   "source": [
    "(len(X_te_pr) - 1339 - 81)/len(X_te_pr)"
   ]
  },
  {
   "cell_type": "code",
   "execution_count": 157,
   "metadata": {},
   "outputs": [
    {
     "data": {
      "text/plain": [
       "0.06161616161616162"
      ]
     },
     "execution_count": 157,
     "metadata": {},
     "output_type": "execute_result"
    }
   ],
   "source": [
    "915 / len(X_te_pr)"
   ]
  },
  {
   "cell_type": "code",
   "execution_count": 158,
   "metadata": {},
   "outputs": [
    {
     "data": {
      "text/plain": [
       "14850"
      ]
     },
     "execution_count": 158,
     "metadata": {},
     "output_type": "execute_result"
    }
   ],
   "source": [
    "len(X_te_pr)"
   ]
  },
  {
   "cell_type": "code",
   "execution_count": 61,
   "metadata": {
    "scrolled": false
   },
   "outputs": [
    {
     "data": {
      "text/plain": [
       "<sklearn.metrics._plot.roc_curve.RocCurveDisplay at 0x220b6e0d5e0>"
      ]
     },
     "execution_count": 61,
     "metadata": {},
     "output_type": "execute_result"
    },
    {
     "data": {
      "image/png": "[encoded data removed]",
      "text/plain": [
       "<Figure size 432x288 with 2 Axes>"
      ]
     },
     "metadata": {
      "needs_background": "light"
     },
     "output_type": "display_data"
    },
    {
     "data": {
      "image/png": "[encoded data removed]",
      "text/plain": [
       "<Figure size 432x288 with 1 Axes>"
      ]
     },
     "metadata": {
      "needs_background": "light"
     },
     "output_type": "display_data"
    }
   ],
   "source": [
    "plot_confusion_matrix(xgb_model, X_te_pr, y_test_fix, display_labels=['not functional', 'functional']);\n",
    "plot_roc_curve(xgb_model, X_te_pr, y_test_fix)"
   ]
  },
  {
   "cell_type": "code",
   "execution_count": 62,
   "metadata": {},
   "outputs": [],
   "source": [
    "train_probs = xgb_model.predict_proba(X_tr_pr)[:,1]\n",
    "test_probs = xgb_model.predict_proba(X_te_pr)[:,1]"
   ]
  },
  {
   "cell_type": "code",
   "execution_count": 63,
   "metadata": {},
   "outputs": [],
   "source": [
    "train_preds = xgb_model.predict(X_tr_pr)\n",
    "test_preds = xgb_model.predict(X_te_pr)"
   ]
  },
  {
   "cell_type": "code",
   "execution_count": 64,
   "metadata": {},
   "outputs": [],
   "source": [
    "y_train_compare = pd.DataFrame(y_train_fix).rename(columns={'Yield':'Actual'})\n",
    "y_train_compare['Predicted'] = train_preds\n",
    "y_train_compare['Predicted Probabilities'] = train_probs"
   ]
  },
  {
   "cell_type": "code",
   "execution_count": 65,
   "metadata": {
    "scrolled": true
   },
   "outputs": [
    {
     "data": {
      "text/html": [
       "<div>\n",
       "<style scoped>\n",
       "    .dataframe tbody tr th:only-of-type {\n",
       "        vertical-align: middle;\n",
       "    }\n",
       "\n",
       "    .dataframe tbody tr th {\n",
       "        vertical-align: top;\n",
       "    }\n",
       "\n",
       "    .dataframe thead th {\n",
       "        text-align: right;\n",
       "    }\n",
       "</style>\n",
       "<table border=\"1\" class=\"dataframe\">\n",
       "  <thead>\n",
       "    <tr style=\"text-align: right;\">\n",
       "      <th></th>\n",
       "      <th>status_group</th>\n",
       "      <th>Predicted</th>\n",
       "      <th>Predicted Probabilities</th>\n",
       "    </tr>\n",
       "  </thead>\n",
       "  <tbody>\n",
       "    <tr>\n",
       "      <th>24947</th>\n",
       "      <td>0</td>\n",
       "      <td>1</td>\n",
       "      <td>0.825326</td>\n",
       "    </tr>\n",
       "    <tr>\n",
       "      <th>22630</th>\n",
       "      <td>1</td>\n",
       "      <td>1</td>\n",
       "      <td>0.929296</td>\n",
       "    </tr>\n",
       "    <tr>\n",
       "      <th>13789</th>\n",
       "      <td>1</td>\n",
       "      <td>1</td>\n",
       "      <td>0.943925</td>\n",
       "    </tr>\n",
       "    <tr>\n",
       "      <th>15697</th>\n",
       "      <td>1</td>\n",
       "      <td>1</td>\n",
       "      <td>0.891908</td>\n",
       "    </tr>\n",
       "    <tr>\n",
       "      <th>22613</th>\n",
       "      <td>0</td>\n",
       "      <td>0</td>\n",
       "      <td>0.060277</td>\n",
       "    </tr>\n",
       "  </tbody>\n",
       "</table>\n",
       "</div>"
      ],
      "text/plain": [
       "       status_group  Predicted  Predicted Probabilities\n",
       "24947             0          1                 0.825326\n",
       "22630             1          1                 0.929296\n",
       "13789             1          1                 0.943925\n",
       "15697             1          1                 0.891908\n",
       "22613             0          0                 0.060277"
      ]
     },
     "execution_count": 65,
     "metadata": {},
     "output_type": "execute_result"
    }
   ],
   "source": [
    "y_train_compare.head()"
   ]
  },
  {
   "cell_type": "code",
   "execution_count": 66,
   "metadata": {},
   "outputs": [],
   "source": [
    "col_names = ['threshold', 'mean_train_pred', 'mean_test_pred', 'train_acc', 'test_acc', \n",
    "             'train_prec', 'test_prec', 'train_rec', 'test_rec', 'train_f1', 'test_f1']\n",
    "metrics_df = pd.DataFrame(columns=col_names)\n",
    "\n",
    "for x in np.arange(train_probs.min(), train_probs.max(), 0.01):\n",
    "    threshold = x\n",
    "    \n",
    "    y_pred_train = np.where(train_probs > x, 1, 0)\n",
    "    y_pred_test = np.where(test_probs > x, 1, 0)\n",
    "    \n",
    "    train_acc = accuracy_score(y_train_fix, y_pred_train)\n",
    "    test_acc = accuracy_score(y_test_fix, y_pred_test)\n",
    "    \n",
    "    train_prec = precision_score(y_train_fix, y_pred_train)\n",
    "    test_prec = precision_score(y_test_fix, y_pred_test)\n",
    "    \n",
    "    train_rec = recall_score(y_train_fix, y_pred_train)\n",
    "    test_rec = recall_score(y_test_fix, y_pred_test)\n",
    "    \n",
    "    train_f1 = f1_score(y_train_fix, y_pred_train)\n",
    "    test_f1 = f1_score(y_test_fix, y_pred_test)\n",
    "    \n",
    "    placeholder = [threshold, y_pred_train.mean(), y_pred_test.mean(),\n",
    "                   train_acc, test_acc, train_prec, test_prec,\n",
    "                   train_rec, test_rec, train_f1, test_f1]\n",
    "    \n",
    "    sample_S = pd.Series(placeholder, index=col_names)\n",
    "    metrics_df = metrics_df.append(sample_S, ignore_index=True)"
   ]
  },
  {
   "cell_type": "code",
   "execution_count": 67,
   "metadata": {},
   "outputs": [
    {
     "data": {
      "image/png": "[encoded data removed]",
      "text/plain": [
       "<Figure size 936x720 with 1 Axes>"
      ]
     },
     "metadata": {
      "needs_background": "light"
     },
     "output_type": "display_data"
    }
   ],
   "source": [
    "fig, ax = plt.subplots(figsize=(13, 10))\n",
    "ax.set_title(\"Search for Best Threshold\", fontsize=16)\n",
    "\n",
    "ax.set_xlabel(\"Threshold\")\n",
    "ax.set_ylabel(\"Score\")\n",
    "ax.grid(True)\n",
    "\n",
    "ax.set_ylim(0, 1)\n",
    "\n",
    "# Get the regular numpy array from the MaskedArray\n",
    "X_axis = metrics_df['threshold'].values\n",
    "\n",
    "# Currently have all the train metrics hashed out - can unhash to visualize\n",
    "\n",
    "ax.plot(X_axis, metrics_df['train_acc'], ls='--', color='g', label='Train Accuracy')\n",
    "ax.plot(X_axis, metrics_df['test_acc'], color='g', label='Test Accuracy')\n",
    "\n",
    "ax.plot(X_axis, metrics_df['train_prec'], ls='--', color='b', label='Train Precision')\n",
    "ax.plot(X_axis, metrics_df['test_prec'], color='b', label='Test Precision')\n",
    "\n",
    "ax.plot(X_axis, metrics_df['train_rec'], ls='--', color='r', label='Train Recall')\n",
    "ax.plot(X_axis, metrics_df['test_rec'], ls='-', color='r', label='Test Recall')\n",
    "\n",
    "ax.plot(X_axis, metrics_df['train_f1'], ls='--', color='purple', label='Train F1')\n",
    "ax.plot(X_axis, metrics_df['test_f1'], ls='-', color='purple', label='Test F1')\n",
    "\n",
    "ax.vlines(.5, 0, 1, color='gray', ls='dotted', label='Threshold at .5')\n",
    "\n",
    "plt.legend()\n",
    "plt.show()"
   ]
  },
  {
   "cell_type": "code",
   "execution_count": 150,
   "metadata": {},
   "outputs": [],
   "source": [
    "adj_train_preds = np.where(train_probs > .92, 1, 0)\n",
    "adj_test_preds = np.where(test_probs > .92, 1, 0)"
   ]
  },
  {
   "cell_type": "code",
   "execution_count": 151,
   "metadata": {
    "scrolled": true
   },
   "outputs": [
    {
     "data": {
      "text/plain": [
       "array([[18036,  2353],\n",
       "       [ 8832, 15329]], dtype=int64)"
      ]
     },
     "execution_count": 151,
     "metadata": {},
     "output_type": "execute_result"
    }
   ],
   "source": [
    "confusion_matrix(y_train_fix, adj_train_preds)"
   ]
  },
  {
   "cell_type": "code",
   "execution_count": 152,
   "metadata": {
    "scrolled": true
   },
   "outputs": [
    {
     "data": {
      "text/plain": [
       "array([[5837,  915],\n",
       "       [3131, 4967]], dtype=int64)"
      ]
     },
     "execution_count": 152,
     "metadata": {},
     "output_type": "execute_result"
    }
   ],
   "source": [
    "confusion_matrix(y_test_fix, adj_test_preds)"
   ]
  },
  {
   "cell_type": "code",
   "execution_count": 153,
   "metadata": {
    "scrolled": true
   },
   "outputs": [
    {
     "name": "stdout",
     "output_type": "stream",
     "text": [
      "Old Train F1: 0.8111809875747971\n",
      "Old Test F1: 0.801292407108239\n",
      "********************\n",
      "New Train F1: 0.7326912506273451\n",
      "New Test F1: 0.7105865522174535\n"
     ]
    }
   ],
   "source": [
    "# Now evaluate:\n",
    "print(f\"Old Train F1: {f1_score(y_train_fix, train_preds)}\")\n",
    "print(f\"Old Test F1: {f1_score(y_test_fix, test_preds)}\")\n",
    "print(\"*\"*20)\n",
    "print(f\"New Train F1: {f1_score(y_train_fix, adj_train_preds)}\")\n",
    "print(f\"New Test F1: {f1_score(y_test_fix, adj_test_preds)}\")"
   ]
  },
  {
   "cell_type": "code",
   "execution_count": 154,
   "metadata": {},
   "outputs": [
    {
     "name": "stdout",
     "output_type": "stream",
     "text": [
      "Old Train precision: 0.6869258153422141\n",
      "Old Test precision: 0.6777113578138343\n",
      "********************\n",
      "New Train precision: 0.8669268182332316\n",
      "New Test precision: 0.8444406664399864\n"
     ]
    }
   ],
   "source": [
    "print(f\"Old Train precision: {precision_score(y_train_fix, train_preds)}\")\n",
    "print(f\"Old Test precision: {precision_score(y_test_fix, test_preds)}\")\n",
    "print(\"*\"*20)\n",
    "print(f\"New Train precision: {precision_score(y_train_fix, adj_train_preds)}\")\n",
    "print(f\"New Test precision: {precision_score(y_test_fix, adj_test_preds)}\")"
   ]
  },
  {
   "cell_type": "code",
   "execution_count": 155,
   "metadata": {},
   "outputs": [
    {
     "name": "stdout",
     "output_type": "stream",
     "text": [
      "Old Train accuracy: 0.74996632996633\n",
      "Old Test accuracy: 0.7349494949494949\n",
      "********************\n",
      "New Train accuracy: 0.7489337822671156\n",
      "New Test accuracy: 0.7275420875420875\n"
     ]
    }
   ],
   "source": [
    "print(f\"Old Train accuracy: {accuracy_score(y_train_fix, train_preds)}\")\n",
    "print(f\"Old Test accuracy: {accuracy_score(y_test_fix, test_preds)}\")\n",
    "print(\"*\"*20)\n",
    "print(f\"New Train accuracy: {accuracy_score(y_train_fix, adj_train_preds)}\")\n",
    "print(f\"New Test accuracy: {accuracy_score(y_test_fix, adj_test_preds)}\")"
   ]
  },
  {
   "cell_type": "code",
   "execution_count": 156,
   "metadata": {},
   "outputs": [
    {
     "name": "stdout",
     "output_type": "stream",
     "text": [
      "Old Train roc_auc: 0.7277338744329135\n",
      "Old Test roc_auc: 0.7105247814392179\n",
      "********************\n",
      "New Train roc_auc: 0.759523425371719\n",
      "New Test roc_auc: 0.7389229604700243\n"
     ]
    }
   ],
   "source": [
    "print(f\"Old Train roc_auc: {roc_auc_score(y_train_fix, train_preds)}\")\n",
    "print(f\"Old Test roc_auc: {roc_auc_score(y_test_fix, test_preds)}\")\n",
    "print(\"*\"*20)\n",
    "print(f\"New Train roc_auc: {roc_auc_score(y_train_fix, adj_train_preds)}\")\n",
    "print(f\"New Test roc_auc: {roc_auc_score(y_test_fix, adj_test_preds)}\")"
   ]
  },
  {
   "cell_type": "markdown",
   "metadata": {},
   "source": [
    "## GridSearch XGBOOST"
   ]
  },
  {
   "cell_type": "code",
   "execution_count": 24,
   "metadata": {},
   "outputs": [],
   "source": [
    "xgb_cv = Pipeline(steps=[\n",
    "    ('preporcessor', preprocessor),\n",
    "    ('xgb', xgb.XGBClassifier(random_state=42))\n",
    "])"
   ]
  },
  {
   "cell_type": "code",
   "execution_count": 39,
   "metadata": {},
   "outputs": [],
   "source": [
    "param_xgb = {\n",
    "    'xgb__scale_pos_weight':[1, 5, 8],\n",
    "    'xgb__reg_alpha': [0.01, 0.05, .1, 0.5],\n",
    "    'xgb__min_child_weight': [0.01, 0.05, 0.5]\n",
    "}"
   ]
  },
  {
   "cell_type": "code",
   "execution_count": 40,
   "metadata": {},
   "outputs": [],
   "source": [
    "# 'xgb__reg_alpha': [],\n",
    "# 'xgb__reg_lambda': [],\n",
    "# 'xgb__gamma': [],"
   ]
  },
  {
   "cell_type": "code",
   "execution_count": null,
   "metadata": {},
   "outputs": [],
   "source": []
  },
  {
   "cell_type": "code",
   "execution_count": 41,
   "metadata": {
    "scrolled": false
   },
   "outputs": [
    {
     "name": "stdout",
     "output_type": "stream",
     "text": [
      "Fitting 5 folds for each of 36 candidates, totalling 180 fits\n"
     ]
    },
    {
     "name": "stderr",
     "output_type": "stream",
     "text": [
      "[Parallel(n_jobs=1)]: Using backend SequentialBackend with 1 concurrent workers.\n",
      "[Parallel(n_jobs=1)]: Done 180 out of 180 | elapsed:  9.7min finished\n"
     ]
    },
    {
     "data": {
      "text/plain": [
       "GridSearchCV(cv=5,\n",
       "             estimator=Pipeline(steps=[('preporcessor',\n",
       "                                        ColumnTransformer(transformers=[('num',\n",
       "                                                                         Pipeline(steps=[('scaler',\n",
       "                                                                                          MinMaxScaler())]),\n",
       "                                                                         Index(['near_pop', 'has_static'], dtype='object')),\n",
       "                                                                        ('cat',\n",
       "                                                                         Pipeline(steps=[('ohe',\n",
       "                                                                                          OneHotEncoder(drop='first',\n",
       "                                                                                                        sparse=False))]),\n",
       "                                                                         Index(['basin', 'region', 'extraction_type_class', 'management',\n",
       "       'management_group', 'pay...\n",
       "                                                      monotone_constraints=None,\n",
       "                                                      n_estimators=100,\n",
       "                                                      n_jobs=None,\n",
       "                                                      num_parallel_tree=None,\n",
       "                                                      random_state=42,\n",
       "                                                      reg_alpha=None,\n",
       "                                                      reg_lambda=None,\n",
       "                                                      scale_pos_weight=None,\n",
       "                                                      subsample=None,\n",
       "                                                      tree_method=None,\n",
       "                                                      validate_parameters=None,\n",
       "                                                      verbosity=None))]),\n",
       "             param_grid={'xgb__min_child_weight': [0.01, 0.05, 0.5],\n",
       "                         'xgb__reg_alpha': [0.01, 0.05, 0.1, 0.5],\n",
       "                         'xgb__scale_pos_weight': [1, 5, 8]},\n",
       "             scoring='f1', verbose=1)"
      ]
     },
     "execution_count": 41,
     "metadata": {},
     "output_type": "execute_result"
    }
   ],
   "source": [
    "# gs_xgb = GridSearchCV(xgb_cv, param_xgb, cv=5, verbose=1, scoring='f1')\n",
    "\n",
    "# gs_xgb.fit(X_train, y_train_fix)"
   ]
  },
  {
   "cell_type": "code",
   "execution_count": 42,
   "metadata": {
    "scrolled": false
   },
   "outputs": [
    {
     "data": {
      "text/plain": [
       "{'xgb__min_child_weight': 0.05,\n",
       " 'xgb__reg_alpha': 0.5,\n",
       " 'xgb__scale_pos_weight': 1}"
      ]
     },
     "execution_count": 42,
     "metadata": {},
     "output_type": "execute_result"
    }
   ],
   "source": [
    "# gs_xgb.best_params_"
   ]
  },
  {
   "cell_type": "markdown",
   "metadata": {},
   "source": [
    "## Averaging best models"
   ]
  },
  {
   "cell_type": "code",
   "execution_count": 80,
   "metadata": {},
   "outputs": [
    {
     "data": {
      "text/plain": [
       "StackingClassifier(estimators=[('rfc',\n",
       "                                RandomForestClassifier(max_depth=30,\n",
       "                                                       min_samples_leaf=7,\n",
       "                                                       n_estimators=150,\n",
       "                                                       random_state=42)),\n",
       "                               ('xgb',\n",
       "                                XGBClassifier(base_score=0.5, booster='gbtree',\n",
       "                                              colsample_bylevel=1,\n",
       "                                              colsample_bynode=1,\n",
       "                                              colsample_bytree=1, gamma=0,\n",
       "                                              gpu_id=-1, importance_type='gain',\n",
       "                                              interaction_constraints='',\n",
       "                                              learning_rate=0.300000012,\n",
       "                                              max_delta_step=0, max_depth=6,\n",
       "                                              min_child_weight=0.01,\n",
       "                                              missing=nan,\n",
       "                                              monotone_constraints='()',\n",
       "                                              n_estimators=100, n_jobs=0,\n",
       "                                              num_parallel_tree=1,\n",
       "                                              random_state=42, reg_alpha=0.1,\n",
       "                                              reg_lambda=1,\n",
       "                                              scale_pos_weight=0.6, subsample=1,\n",
       "                                              tree_method='exact',\n",
       "                                              validate_parameters=1,\n",
       "                                              verbosity=None))])"
      ]
     },
     "execution_count": 80,
     "metadata": {},
     "output_type": "execute_result"
    }
   ],
   "source": [
    "estimators = [\n",
    "    ('rfc', rfc),\n",
    "    ('xgb', xgb_model)\n",
    "]\n",
    "\n",
    "sr = StackingClassifier(estimators)\n",
    "\n",
    "sr.fit(X_tr_pr, y_train_fix)"
   ]
  },
  {
   "cell_type": "code",
   "execution_count": 81,
   "metadata": {},
   "outputs": [
    {
     "name": "stdout",
     "output_type": "stream",
     "text": [
      "Train Score: 0.8020875420875421\n",
      "Test Score: 0.7808080808080808\n"
     ]
    }
   ],
   "source": [
    "print(f\"Train Score: {sr.score(X_tr_pr, y_train_fix)}\")\n",
    "print(f\"Test Score: {sr.score(X_te_pr, y_test_fix)}\")"
   ]
  },
  {
   "cell_type": "code",
   "execution_count": 82,
   "metadata": {},
   "outputs": [
    {
     "data": {
      "text/plain": [
       "<sklearn.metrics._plot.roc_curve.RocCurveDisplay at 0x211482f3f70>"
      ]
     },
     "execution_count": 82,
     "metadata": {},
     "output_type": "execute_result"
    },
    {
     "data": {
      "image/png": "[encoded data removed]",
      "text/plain": [
       "<Figure size 432x288 with 2 Axes>"
      ]
     },
     "metadata": {
      "needs_background": "light"
     },
     "output_type": "display_data"
    },
    {
     "data": {
      "image/png": "[encoded data removed]",
      "text/plain": [
       "<Figure size 432x288 with 1 Axes>"
      ]
     },
     "metadata": {
      "needs_background": "light"
     },
     "output_type": "display_data"
    }
   ],
   "source": [
    "plot_confusion_matrix(sr, X_te_pr, y_test_fix);\n",
    "plot_roc_curve(sr, X_te_pr, y_test_fix)"
   ]
  },
  {
   "cell_type": "code",
   "execution_count": null,
   "metadata": {},
   "outputs": [],
   "source": []
  },
  {
   "cell_type": "code",
   "execution_count": null,
   "metadata": {},
   "outputs": [],
   "source": []
  },
  {
   "cell_type": "code",
   "execution_count": null,
   "metadata": {},
   "outputs": [],
   "source": []
  }
 ],
 "metadata": {
  "kernelspec": {
   "display_name": "Python (learn-env)",
   "language": "python",
   "name": "learn-env"
  },
  "language_info": {
   "codemirror_mode": {
    "name": "ipython",
    "version": 3
   },
   "file_extension": ".py",
   "mimetype": "text/x-python",
   "name": "python",
   "nbconvert_exporter": "python",
   "pygments_lexer": "ipython3",
   "version": "3.8.5"
  }
 },
 "nbformat": 4,
 "nbformat_minor": 4
}
